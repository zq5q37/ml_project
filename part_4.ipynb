{
 "cells": [
  {
   "cell_type": "markdown",
   "metadata": {},
   "source": [
    "## Part 4 – Design Challenge (20 points)"
   ]
  },
  {
   "cell_type": "code",
   "execution_count": 1,
   "metadata": {},
   "outputs": [],
   "source": [
    "import random\n",
    "from collections import defaultdict, Counter\n",
    "\n",
    "class AveragedPerceptron:\n",
    "    def __init__(self):\n",
    "        self.weights = defaultdict(lambda: defaultdict(float))\n",
    "        self.totals = defaultdict(float)\n",
    "        self.timestamps = defaultdict(int)\n",
    "        self.i = 0  # total updates\n",
    "\n",
    "    def predict(self, features):\n",
    "        scores = defaultdict(float)\n",
    "        for feat, value in features.items():\n",
    "            if value == 0 or feat not in self.weights:\n",
    "                continue\n",
    "            for label, weight in self.weights[feat].items():\n",
    "                scores[label] += value * weight\n",
    "        return max(scores, key=scores.get) if scores else 'O'\n",
    "\n",
    "    def update(self, truth, guess, features):\n",
    "        def upd_feat(feat, label, value):\n",
    "            param = (feat, label)\n",
    "            self.totals[param] += (self.i - self.timestamps[param]) * self.weights[feat][label]\n",
    "            self.timestamps[param] = self.i\n",
    "            self.weights[feat][label] += value\n",
    "\n",
    "        self.i += 1\n",
    "        if truth == guess:\n",
    "            return\n",
    "        for feat in features:\n",
    "            upd_feat(feat, truth, 1.0)\n",
    "            upd_feat(feat, guess, -1.0)\n",
    "\n",
    "    def average_weights(self):\n",
    "        for feat, weights in self.weights.items():\n",
    "            for label in weights:\n",
    "                param = (feat, label)\n",
    "                total = self.totals[param] + (self.i - self.timestamps[param]) * weights[label]\n",
    "                averaged = total / self.i\n",
    "                if averaged:\n",
    "                    self.weights[feat][label] = averaged\n",
    "                else:\n",
    "                    del self.weights[feat][label]\n"
   ]
  },
  {
   "cell_type": "code",
   "execution_count": 2,
   "metadata": {},
   "outputs": [],
   "source": [
    "def extract_features(sentence, index):\n",
    "    word = sentence[index]\n",
    "    features = {\n",
    "        'bias': 1.0,\n",
    "        'word.lower=' + word.lower(): 1.0,\n",
    "        'word[-3:]=' + word[-3:]: 1.0,\n",
    "        'word[-2:]=' + word[-2:]: 1.0,\n",
    "        'word.isupper=' + str(word.isupper()): 1.0,\n",
    "        'word.istitle=' + str(word.istitle()): 1.0,\n",
    "        'word.isdigit=' + str(word.isdigit()): 1.0,\n",
    "    }\n",
    "    if index > 0:\n",
    "        prev = sentence[index - 1]\n",
    "        features.update({\n",
    "            '-1:word.lower=' + prev.lower(): 1.0,\n",
    "            '-1:word.istitle=' + str(prev.istitle()): 1.0,\n",
    "        })\n",
    "    else:\n",
    "        features['BOS'] = 1.0  # Beginning of sentence\n",
    "\n",
    "    if index < len(sentence) - 1:\n",
    "        next = sentence[index + 1]\n",
    "        features.update({\n",
    "            '+1:word.lower=' + next.lower(): 1.0,\n",
    "            '+1:word.istitle=' + str(next.istitle()): 1.0,\n",
    "        })\n",
    "    else:\n",
    "        features['EOS'] = 1.0  # End of sentence\n",
    "\n",
    "    return features\n"
   ]
  },
  {
   "cell_type": "code",
   "execution_count": 3,
   "metadata": {},
   "outputs": [],
   "source": [
    "def train_perceptron(dataset, epochs=5):\n",
    "    model = AveragedPerceptron()\n",
    "    for _ in range(epochs):\n",
    "        random.shuffle(dataset)\n",
    "        for sentence, tags in dataset:\n",
    "            for i in range(len(sentence)):\n",
    "                features = extract_features(sentence, i)\n",
    "                pred = model.predict(features)\n",
    "                model.update(tags[i], pred, features)\n",
    "    model.average_weights()\n",
    "    return model\n"
   ]
  },
  {
   "cell_type": "code",
   "execution_count": 4,
   "metadata": {},
   "outputs": [],
   "source": [
    "def read_data(file_path):\n",
    "    sentences, labels = [], []\n",
    "    with open(file_path, 'r', encoding='utf-8') as f:\n",
    "        sent, labs = [], []\n",
    "        for line in f:\n",
    "            line = line.strip()\n",
    "            if not line:\n",
    "                if sent:\n",
    "                    sentences.append(sent)\n",
    "                    labels.append(labs)\n",
    "                    sent, labs = [], []\n",
    "                continue\n",
    "            parts = line.split()\n",
    "            if len(parts) == 2:\n",
    "                token, label = parts\n",
    "            else:\n",
    "                token, label = parts[0], 'O'  # fallback if label is missing\n",
    "            sent.append(token)\n",
    "            labs.append(label)\n",
    "        if sent:\n",
    "            sentences.append(sent)\n",
    "            labels.append(labs)\n",
    "    return list(zip(sentences, labels))\n"
   ]
  },
  {
   "cell_type": "code",
   "execution_count": 5,
   "metadata": {},
   "outputs": [],
   "source": [
    "def read_unlabeled_data(file_path):\n",
    "    sentences = []\n",
    "    with open(file_path, 'r', encoding='utf-8') as f:\n",
    "        sent = []\n",
    "        for line in f:\n",
    "            line = line.strip()\n",
    "            if not line:\n",
    "                if sent:\n",
    "                    sentences.append(sent)\n",
    "                    sent = []\n",
    "                continue\n",
    "            sent.append(line)\n",
    "        if sent:\n",
    "            sentences.append(sent)\n",
    "    return sentences\n"
   ]
  },
  {
   "cell_type": "code",
   "execution_count": 6,
   "metadata": {},
   "outputs": [],
   "source": [
    "train_file = \"EN/train\"\n",
    "dev_in_file = \"EN/dev.in\"\n",
    "gold_file = \"EN/dev.out\"\n",
    "\n",
    "train_data = read_data(train_file)\n",
    "\n",
    "# Load dev gold tags\n",
    "dev_gold_data = read_data(\"EN/dev.out\")\n",
    "dev_data = [tokens for tokens, tags in dev_gold_data]\n",
    "gold_dev_tags = [tags for tokens, tags in dev_gold_data]\n",
    "\n",
    "\n",
    "model = train_perceptron(train_data, epochs=20)\n",
    "\n"
   ]
  },
  {
   "cell_type": "code",
   "execution_count": 8,
   "metadata": {},
   "outputs": [],
   "source": [
    "dev_sentences = read_unlabeled_data(dev_in_file)\n",
    "\n",
    "# model, train_f1s, dev_f1s = train_perceptron(train_data, dev_sentences, gold_dev_tags, epochs=30)"
   ]
  },
  {
   "cell_type": "code",
   "execution_count": 9,
   "metadata": {},
   "outputs": [],
   "source": [
    "\n",
    "with open(\"EN/dev.p4.out\", 'w', encoding='utf-8') as out_f:\n",
    "    for sent in dev_sentences:\n",
    "        for i in range(len(sent)):\n",
    "            feats = extract_features(sent, i)\n",
    "            pred = model.predict(feats)\n",
    "            out_f.write(f\"{sent[i]} {pred}\\n\")\n",
    "        out_f.write(\"\\n\")\n"
   ]
  },
  {
   "cell_type": "code",
   "execution_count": 10,
   "metadata": {},
   "outputs": [],
   "source": [
    "import datetime\n",
    "\n",
    "with open(\"eval_log.txt\", \"a\") as f:\n",
    "    f.write(f\"\\n----- Run at {datetime.datetime.now()} -----\\n\")\n",
    "\n",
    "!python EvalScript/evalResult.py EN/dev.out EN/dev.p4.out >> eval_log.txt\n"
   ]
  },
  {
   "cell_type": "code",
   "execution_count": null,
   "metadata": {},
   "outputs": [
    {
     "data": {
      "image/png": "[encoded data removed]",
      "text/plain": [
       "<Figure size 640x480 with 1 Axes>"
      ]
     },
     "metadata": {},
     "output_type": "display_data"
    }
   ],
   "source": [
    "\n",
    "# import matplotlib.pyplot as plt\n",
    "\n",
    "# plt.plot(range(1, 31), train_f1s, label=\"Train F1\")\n",
    "# plt.plot(range(1, 31), dev_f1s, label=\"Dev F1\")\n",
    "# plt.xlabel(\"Epoch\")\n",
    "# plt.ylabel(\"F1 Score\")\n",
    "# plt.title(\"F1 Score over Epochs\")\n",
    "# plt.legend()\n",
    "# plt.grid(True)\n",
    "# plt.show()\n"
   ]
  },
  {
   "cell_type": "code",
   "execution_count": null,
   "metadata": {},
   "outputs": [],
   "source": [
    "# from sklearn.metrics import f1_score\n",
    "\n",
    "# def train_perceptron(train_data, dev_data, gold_dev_tags, epochs=5):\n",
    "#     model = AveragedPerceptron()\n",
    "#     train_f1_scores = []\n",
    "#     dev_f1_scores = []\n",
    "\n",
    "#     for epoch in range(epochs):\n",
    "#         print(f\"Epoch {epoch + 1}/{epochs}\")\n",
    "\n",
    "#         # Training phase\n",
    "#         for sentence, tags in train_data:\n",
    "#             for i in range(len(sentence)):\n",
    "#                 features = extract_features(sentence, i)\n",
    "#                 pred = model.predict(features)\n",
    "#                 model.update(tags[i], pred, features)\n",
    "#         model.average_weights()\n",
    "\n",
    "#         # --- F1 on train ---\n",
    "#         train_preds = []\n",
    "#         train_gold = []\n",
    "#         for sentence, tags in train_data:\n",
    "#             for i in range(len(sentence)):\n",
    "#                 pred = model.predict(extract_features(sentence, i))\n",
    "#                 train_preds.append(pred)\n",
    "#                 train_gold.append(tags[i])\n",
    "#         train_f1 = f1_score(train_gold, train_preds, average='micro', labels=list(set(train_gold)))\n",
    "#         train_f1_scores.append(train_f1)\n",
    "\n",
    "#         # --- F1 on dev ---\n",
    "#         dev_preds = []\n",
    "#         dev_gold = []\n",
    "#         for sentence, tags in zip(dev_data, gold_dev_tags):\n",
    "#             for i in range(len(sentence)):\n",
    "#                 pred = model.predict(extract_features(sentence, i))\n",
    "#                 dev_preds.append(pred)\n",
    "#                 dev_gold.append(tags[i])\n",
    "#         dev_f1 = f1_score(dev_gold, dev_preds, average='micro', labels=list(set(dev_gold)))\n",
    "#         dev_f1_scores.append(dev_f1)\n",
    "\n",
    "#         print(f\"Train F1: {train_f1:.4f} | Dev F1: {dev_f1:.4f}\")\n",
    "\n",
    "#     return model, train_f1_scores, dev_f1_scores\n"
   ]
  }
 ],
 "metadata": {
  "kernelspec": {
   "display_name": "Python 3",
   "language": "python",
   "name": "python3"
  },
  "language_info": {
   "codemirror_mode": {
    "name": "ipython",
    "version": 3
   },
   "file_extension": ".py",
   "mimetype": "text/x-python",
   "name": "python",
   "nbconvert_exporter": "python",
   "pygments_lexer": "ipython3",
   "version": "3.11.8"
  }
 },
 "nbformat": 4,
 "nbformat_minor": 2
}
