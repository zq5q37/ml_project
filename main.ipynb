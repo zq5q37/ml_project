{
 "cells": [
  {
   "cell_type": "markdown",
   "metadata": {},
   "source": [
    "# 50.007 Machine Learning, Spring 2025\n",
    "# Design Project\n",
    "\n",
    "Due 27 Apr 2025, 5:00pm\n",
    "\n",
    "By: Aishwarya Iyer (1007141) and Khoo Zi Qi (1006984)"
   ]
  },
  {
   "cell_type": "markdown",
   "metadata": {},
   "source": [
    "## Part1 (30points)"
   ]
  },
  {
   "cell_type": "markdown",
   "metadata": {},
   "source": [
    "Write a function that estimates the emission parameters from the training set using MLE (maximum likelihood estimation): "
   ]
  },
  {
   "cell_type": "code",
   "execution_count": null,
   "metadata": {},
   "outputs": [],
   "source": [
    "# e(x|y) = Count(y → x)/ Count(y)\n",
    "\n",
    "def emission_parameter():\n",
    "    emission_parameters = count(y,x) / count(y)\n",
    "    return emission_parameters"
   ]
  }
 ],
 "metadata": {
  "language_info": {
   "name": "python"
  }
 },
 "nbformat": 4,
 "nbformat_minor": 2
}
